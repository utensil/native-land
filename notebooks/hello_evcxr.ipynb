{
 "cells": [
  {
   "cell_type": "code",
   "execution_count": 2,
   "id": "dc1e0a81-6c6f-40c6-ab82-a3b6fcb4baea",
   "metadata": {},
   "outputs": [
    {
     "data": {
      "text/plain": [
       "cache: 500 MiB\n"
      ]
     },
     "execution_count": 2,
     "metadata": {},
     "output_type": "execute_result"
    }
   ],
   "source": [
    ":cache 500"
   ]
  },
  {
   "cell_type": "code",
   "execution_count": 3,
   "id": "643e81cb-fc9a-4da4-8738-fbcc993b5702",
   "metadata": {},
   "outputs": [],
   "source": [
    "let x = \"hello\";"
   ]
  },
  {
   "cell_type": "code",
   "execution_count": 4,
   "id": "858ba0e2-f711-42ec-a1ab-1e5fba4e97f5",
   "metadata": {},
   "outputs": [
    {
     "name": "stdout",
     "output_type": "stream",
     "text": [
      "hello\n"
     ]
    },
    {
     "data": {
      "text/plain": [
       "()"
      ]
     },
     "execution_count": 4,
     "metadata": {},
     "output_type": "execute_result"
    }
   ],
   "source": [
    "println!(\"{}\", x)"
   ]
  },
  {
   "cell_type": "code",
   "execution_count": 5,
   "id": "8ba5b043-2416-43ce-b767-795c4ee120e6",
   "metadata": {},
   "outputs": [
    {
     "data": {
      "text/plain": [
       "\"AQIDBA==\""
      ]
     },
     "execution_count": 5,
     "metadata": {},
     "output_type": "execute_result"
    }
   ],
   "source": [
    ":dep base64 = \"0.10.1\"\n",
    "base64::encode(&vec![1, 2, 3, 4])"
   ]
  },
  {
   "cell_type": "code",
   "execution_count": 6,
   "id": "a66a9cf6-085d-40d3-b8be-e23e81eafdb0",
   "metadata": {},
   "outputs": [
    {
     "name": "stderr",
     "output_type": "stream",
     "text": [
      "environment variable not found\n"
     ]
    }
   ],
   "source": [
    "let var = std::env::var(\"UNKNOWN\")?;"
   ]
  },
  {
   "cell_type": "code",
   "execution_count": 7,
   "id": "7b323026-f923-40d8-bc93-63e6cddc12af",
   "metadata": {},
   "outputs": [],
   "source": [
    "async fn foo() -> u32 { 42 }"
   ]
  },
  {
   "cell_type": "code",
   "execution_count": 8,
   "id": "8a310ce0-dca3-4f1b-a6f2-04de9f4829d5",
   "metadata": {},
   "outputs": [
    {
     "data": {
      "text/plain": [
       "42"
      ]
     },
     "execution_count": 8,
     "metadata": {},
     "output_type": "execute_result"
    }
   ],
   "source": [
    "foo().await"
   ]
  },
  {
   "cell_type": "code",
   "execution_count": null,
   "id": "df3cad7a-435c-4694-96e4-d9acfa950161",
   "metadata": {},
   "outputs": [],
   "source": []
  }
 ],
 "metadata": {
  "kernelspec": {
   "display_name": "Rust",
   "language": "rust",
   "name": "rust"
  },
  "language_info": {
   "codemirror_mode": "rust",
   "file_extension": ".rs",
   "mimetype": "text/rust",
   "name": "Rust",
   "pygment_lexer": "rust",
   "version": ""
  }
 },
 "nbformat": 4,
 "nbformat_minor": 5
}
